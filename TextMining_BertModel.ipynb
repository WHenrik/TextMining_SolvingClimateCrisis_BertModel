{
 "cells": [
  {
   "cell_type": "markdown",
   "metadata": {},
   "source": [
    "## Solving the Climate Crisis with Text Mining\n",
    "### Economics and Politicians on Twitter"
   ]
  },
  {
   "cell_type": "markdown",
   "metadata": {},
   "source": [
    "### Load packages"
   ]
  },
  {
   "cell_type": "code",
   "execution_count": 1,
   "metadata": {},
   "outputs": [
    {
     "name": "stderr",
     "output_type": "stream",
     "text": [
      "\u001b[34m\u001b[1mwandb\u001b[0m: \u001b[33mWARNING\u001b[0m W&B installed but not logged in.  Run `wandb login` or set the WANDB_API_KEY env variable.\n"
     ]
    }
   ],
   "source": [
    "import warnings\n",
    "warnings.filterwarnings('ignore')\n",
    "\n",
    "#basic packages \n",
    "import pandas as pd\n",
    "from sklearn.model_selection import train_test_split\n",
    "\n",
    "#utility packages\n",
    "from utils.preprocessing import preprocess_tweets\n",
    "from utils.data_loader import load_tweets\n",
    "from utils.sampler import shrink_major_class_down, oversample\n",
    "from utils.textfile_creator import create_txt_file\n",
    "from utils.class_extractor import extract_classes\n",
    "from utils.labeling import load_labelled_tweets\n",
    "\n",
    "#bert Models\n",
    "from Bert_models.language_model.language_model import BertLanguageModel\n",
    "from Bert_models.classification_model.classification_model import BertClassificationModel\n",
    "from Bert_models.embeddings_by_Bert.embeddings import BertEmbeddings\n",
    "\n",
    "#knowledge retrieval\n",
    "from visualization.visualize import visualize_embeddings\n",
    "from utils.clusters import find_clusters\n",
    "\n",
    "#tokenizer\n",
    "from tokenizer.tokenizer import build_tokenizer, test_tokenizer"
   ]
  },
  {
   "cell_type": "markdown",
   "metadata": {},
   "source": [
    "### Load Data"
   ]
  },
  {
   "cell_type": "markdown",
   "metadata": {},
   "source": [
    "The tweet data of the Mercator Research Institute on Global Commons and Climate Change will be loaded."
   ]
  },
  {
   "cell_type": "code",
   "execution_count": 2,
   "metadata": {},
   "outputs": [
    {
     "name": "stdout",
     "output_type": "stream",
     "text": [
      "tweet data is already saved. Loading ...\n",
      "done\n"
     ]
    }
   ],
   "source": [
    "all_data_tweets=load_tweets()"
   ]
  },
  {
   "cell_type": "code",
   "execution_count": 3,
   "metadata": {},
   "outputs": [
    {
     "data": {
      "text/plain": [
       "0    Paradoxer Effekt: Warum die Erderwärmung für e...\n",
       "1    Kühleffekt: Grüne Wiesen als Mittel gegen die ...\n",
       "2    Klimaforschung: Bis zu sechs Grad Erderwärmung...\n",
       "3    Auch wenn im Moment der Eindruck anders ist: G...\n",
       "4    Erderwärmung: Britisches Institut veröffentlic...\n",
       "Name: text, dtype: object"
      ]
     },
     "execution_count": 3,
     "metadata": {},
     "output_type": "execute_result"
    }
   ],
   "source": [
    "data = all_data_tweets\n",
    "data.head()"
   ]
  },
  {
   "cell_type": "markdown",
   "metadata": {},
   "source": [
    "### Preprocess Data"
   ]
  },
  {
   "cell_type": "markdown",
   "metadata": {},
   "source": [
    "Cleaning and pre-processing the dataset "
   ]
  },
  {
   "cell_type": "code",
   "execution_count": 4,
   "metadata": {},
   "outputs": [
    {
     "name": "stdout",
     "output_type": "stream",
     "text": [
      "tweets are already preprocessed. Loading ...\n",
      "done\n"
     ]
    }
   ],
   "source": [
    "tweets_preprocessed=preprocess_tweets(data)"
   ]
  },
  {
   "cell_type": "markdown",
   "metadata": {},
   "source": [
    "### Bert Language model"
   ]
  },
  {
   "cell_type": "code",
   "execution_count": 5,
   "metadata": {},
   "outputs": [],
   "source": [
    "#configurations\n",
    "pretrained_weigths='bert-base-german-cased'\n",
    "model_path=\"./saved_states/MCC_Bert_LanguageModel/\"   ##model will be sent on request\n",
    "data_sample_path=\"./saved_states/test.txt\"\n",
    "checkpoint_path=\"./saved_states/MCC_Bert_Test\"\n",
    "save_path=\"./saved_states/Bert_Language_Model\""
   ]
  },
  {
   "cell_type": "code",
   "execution_count": 6,
   "metadata": {},
   "outputs": [],
   "source": [
    "#a small sample of tweets to illustrate that our functions work.\n",
    "tweet_chunk=tweets_preprocessed[1600000:1600000+50]"
   ]
  },
  {
   "cell_type": "code",
   "execution_count": 7,
   "metadata": {},
   "outputs": [],
   "source": [
    "#creating a small sample text file to illustrate that our language model training work.\n",
    "create_txt_file(tweet_chunk,\"./saved_states/test.txt\")"
   ]
  },
  {
   "cell_type": "code",
   "execution_count": 8,
   "metadata": {},
   "outputs": [],
   "source": [
    "#initialization of the model\n",
    "model= BertLanguageModel(pretrained_weigths,model_path)"
   ]
  },
  {
   "cell_type": "code",
   "execution_count": 9,
   "metadata": {},
   "outputs": [
    {
     "data": {
      "application/vnd.jupyter.widget-view+json": {
       "model_id": "e1042cbfb360407b924015f6801436a6",
       "version_major": 2,
       "version_minor": 0
      },
      "text/plain": [
       "HBox(children=(FloatProgress(value=0.0, description='Epoch', max=4.0, style=ProgressStyle(description_width='i…"
      ]
     },
     "metadata": {},
     "output_type": "display_data"
    },
    {
     "data": {
      "application/vnd.jupyter.widget-view+json": {
       "model_id": "b21ac3bde13f43569c43cfbb47476386",
       "version_major": 2,
       "version_minor": 0
      },
      "text/plain": [
       "HBox(children=(FloatProgress(value=0.0, description='Iteration', max=13.0, style=ProgressStyle(description_wid…"
      ]
     },
     "metadata": {},
     "output_type": "display_data"
    },
    {
     "name": "stdout",
     "output_type": "stream",
     "text": [
      "\n"
     ]
    },
    {
     "data": {
      "application/vnd.jupyter.widget-view+json": {
       "model_id": "edbd760cf8d340018c487b0bce17a267",
       "version_major": 2,
       "version_minor": 0
      },
      "text/plain": [
       "HBox(children=(FloatProgress(value=0.0, description='Iteration', max=13.0, style=ProgressStyle(description_wid…"
      ]
     },
     "metadata": {},
     "output_type": "display_data"
    },
    {
     "name": "stdout",
     "output_type": "stream",
     "text": [
      "\n"
     ]
    },
    {
     "data": {
      "application/vnd.jupyter.widget-view+json": {
       "model_id": "68676490c3c744849fdc4a4a8ddc1891",
       "version_major": 2,
       "version_minor": 0
      },
      "text/plain": [
       "HBox(children=(FloatProgress(value=0.0, description='Iteration', max=13.0, style=ProgressStyle(description_wid…"
      ]
     },
     "metadata": {},
     "output_type": "display_data"
    },
    {
     "name": "stdout",
     "output_type": "stream",
     "text": [
      "\n"
     ]
    },
    {
     "data": {
      "application/vnd.jupyter.widget-view+json": {
       "model_id": "a48f9f95e2e047e29050e61c248847eb",
       "version_major": 2,
       "version_minor": 0
      },
      "text/plain": [
       "HBox(children=(FloatProgress(value=0.0, description='Iteration', max=13.0, style=ProgressStyle(description_wid…"
      ]
     },
     "metadata": {},
     "output_type": "display_data"
    },
    {
     "name": "stdout",
     "output_type": "stream",
     "text": [
      "\n",
      "\n"
     ]
    }
   ],
   "source": [
    "#model training based on file path\n",
    "model.fit(file_path=data_sample_path,\n",
    "          checkpoint_path=checkpoint_path,\n",
    "          save_path=save_path)"
   ]
  },
  {
   "cell_type": "code",
   "execution_count": 10,
   "metadata": {},
   "outputs": [
    {
     "data": {
      "application/vnd.jupyter.widget-view+json": {
       "model_id": "efb2cc4ddf19474a9d8e1a7efcc9b331",
       "version_major": 2,
       "version_minor": 0
      },
      "text/plain": [
       "HBox(children=(FloatProgress(value=0.0, description='Epoch', max=4.0, style=ProgressStyle(description_width='i…"
      ]
     },
     "metadata": {},
     "output_type": "display_data"
    },
    {
     "data": {
      "application/vnd.jupyter.widget-view+json": {
       "model_id": "28f4a2fa977d4c4fb004e4882efda777",
       "version_major": 2,
       "version_minor": 0
      },
      "text/plain": [
       "HBox(children=(FloatProgress(value=0.0, description='Iteration', max=13.0, style=ProgressStyle(description_wid…"
      ]
     },
     "metadata": {},
     "output_type": "display_data"
    },
    {
     "name": "stdout",
     "output_type": "stream",
     "text": [
      "\n"
     ]
    },
    {
     "data": {
      "application/vnd.jupyter.widget-view+json": {
       "model_id": "7a2a7a5323d24935b0cdb563058da282",
       "version_major": 2,
       "version_minor": 0
      },
      "text/plain": [
       "HBox(children=(FloatProgress(value=0.0, description='Iteration', max=13.0, style=ProgressStyle(description_wid…"
      ]
     },
     "metadata": {},
     "output_type": "display_data"
    },
    {
     "name": "stdout",
     "output_type": "stream",
     "text": [
      "\n"
     ]
    },
    {
     "data": {
      "application/vnd.jupyter.widget-view+json": {
       "model_id": "ebff49770484437da654c325483c4759",
       "version_major": 2,
       "version_minor": 0
      },
      "text/plain": [
       "HBox(children=(FloatProgress(value=0.0, description='Iteration', max=13.0, style=ProgressStyle(description_wid…"
      ]
     },
     "metadata": {},
     "output_type": "display_data"
    },
    {
     "name": "stdout",
     "output_type": "stream",
     "text": [
      "\n"
     ]
    },
    {
     "data": {
      "application/vnd.jupyter.widget-view+json": {
       "model_id": "c4e7a5699abc40958be7e09e4481e63f",
       "version_major": 2,
       "version_minor": 0
      },
      "text/plain": [
       "HBox(children=(FloatProgress(value=0.0, description='Iteration', max=13.0, style=ProgressStyle(description_wid…"
      ]
     },
     "metadata": {},
     "output_type": "display_data"
    },
    {
     "name": "stdout",
     "output_type": "stream",
     "text": [
      "\n",
      "\n"
     ]
    }
   ],
   "source": [
    "#test training based on small data chunk\n",
    "model.fit(file_path=data_sample_path,\n",
    "          checkpoint_path=checkpoint_path,\n",
    "          save_path=save_path,\n",
    "          tweets=tweet_chunk)"
   ]
  },
  {
   "cell_type": "code",
   "execution_count": 11,
   "metadata": {},
   "outputs": [
    {
     "name": "stdout",
     "output_type": "stream",
     "text": [
      "gute\n"
     ]
    }
   ],
   "source": [
    "#let the model predict one masked word\n",
    "model.predict(\"Das Projekt bekommt eine [MASK] Note.\")"
   ]
  },
  {
   "cell_type": "markdown",
   "metadata": {},
   "source": [
    "### Bert Classification Model"
   ]
  },
  {
   "cell_type": "code",
   "execution_count": 39,
   "metadata": {},
   "outputs": [],
   "source": [
    "#configurations\n",
    "path_to_labelled_data=\"./saved_states/labelled_data_preprocessed.pkl\" \n",
    "pretrained_weigths='bert-base-german-cased'\n",
    "model_path=\"./saved_states/MCC_Bert_ClassificationModel/\"  #model will be sent on request"
   ]
  },
  {
   "cell_type": "code",
   "execution_count": 13,
   "metadata": {},
   "outputs": [
    {
     "data": {
      "text/plain": [
       "None          206925\n",
       "industry        3387\n",
       "politician       961\n",
       "news             345\n",
       "Name: label, dtype: int64"
      ]
     },
     "execution_count": 13,
     "metadata": {},
     "output_type": "execute_result"
    }
   ],
   "source": [
    "#load and preprocess labelled data\n",
    "labelled_data=pd.read_pickle(path_to_labelled_data, compression=\"bz2\")\n",
    "labelled_data.text=labelled_data.text[labelled_data.text.notnull()]\n",
    "labelled_data.dropna(inplace=True)\n",
    "labelled_data=labelled_data.reset_index(drop=True)\n",
    "labelled_data.label.value_counts()"
   ]
  },
  {
   "cell_type": "code",
   "execution_count": 14,
   "metadata": {},
   "outputs": [],
   "source": [
    "#get pure datasets\n",
    "industry_data, polit_data, news_data= extract_classes(labelled_data)"
   ]
  },
  {
   "cell_type": "code",
   "execution_count": 15,
   "metadata": {},
   "outputs": [],
   "source": [
    "#factorize labels\n",
    "labelled_data.label = pd.Categorical(pd.factorize(labelled_data.label)[0])"
   ]
  },
  {
   "cell_type": "code",
   "execution_count": 16,
   "metadata": {},
   "outputs": [
    {
     "data": {
      "text/plain": [
       "0    10000\n",
       "1     3387\n",
       "2      961\n",
       "3      345\n",
       "Name: label, dtype: int64"
      ]
     },
     "execution_count": 16,
     "metadata": {},
     "output_type": "execute_result"
    }
   ],
   "source": [
    "#reduction of the largest category to 10000 samples\n",
    "labelled_data_prep=shrink_major_class_down(labelled_data,number_to_be_shrinked=10000)\n",
    "labelled_data_prep.label.value_counts()"
   ]
  },
  {
   "cell_type": "code",
   "execution_count": 17,
   "metadata": {},
   "outputs": [],
   "source": [
    "#splitting the data into a training and a test set\n",
    "data_train_under, data_test_under = train_test_split(labelled_data_prep, test_size=0.1, random_state=42,stratify=labelled_data_prep.label)"
   ]
  },
  {
   "cell_type": "code",
   "execution_count": 18,
   "metadata": {},
   "outputs": [
    {
     "data": {
      "text/plain": [
       "3    10000\n",
       "2    10000\n",
       "1    10000\n",
       "0    10000\n",
       "Name: label, dtype: int64"
      ]
     },
     "execution_count": 18,
     "metadata": {},
     "output_type": "execute_result"
    }
   ],
   "source": [
    "#oversample the 3 minor classes of the training set\n",
    "labelled_data_prep=oversample(labelled_data_prep)\n",
    "labelled_data_prep.label.value_counts()"
   ]
  },
  {
   "cell_type": "markdown",
   "metadata": {},
   "source": [
    "#### Classifier training"
   ]
  },
  {
   "cell_type": "code",
   "execution_count": 19,
   "metadata": {},
   "outputs": [],
   "source": [
    "#splitting the balanced data into a training and a test set\n",
    "data_train, data_test = train_test_split(labelled_data_prep, test_size=0.1, random_state=42,stratify=labelled_data_prep.label)"
   ]
  },
  {
   "cell_type": "code",
   "execution_count": 20,
   "metadata": {},
   "outputs": [],
   "source": [
    "#two small samples of tweets to illustrate that our classification model training works\n",
    "data_train_small=data_train[0:20]\n",
    "data_test_small=data_test[0:20]"
   ]
  },
  {
   "cell_type": "code",
   "execution_count": 40,
   "metadata": {},
   "outputs": [
    {
     "name": "stdout",
     "output_type": "stream",
     "text": [
      "The BERT model has 201 different named parameters.\n",
      "\n",
      "==== Embedding Layer ====\n",
      "\n",
      "bert.embeddings.word_embeddings.weight                  (30000, 768)\n",
      "bert.embeddings.position_embeddings.weight                (512, 768)\n",
      "bert.embeddings.token_type_embeddings.weight                (2, 768)\n",
      "bert.embeddings.LayerNorm.weight                              (768,)\n",
      "bert.embeddings.LayerNorm.bias                                (768,)\n",
      "\n",
      "==== First Transformer ====\n",
      "\n",
      "bert.encoder.layer.0.attention.self.query.weight          (768, 768)\n",
      "bert.encoder.layer.0.attention.self.query.bias                (768,)\n",
      "bert.encoder.layer.0.attention.self.key.weight            (768, 768)\n",
      "bert.encoder.layer.0.attention.self.key.bias                  (768,)\n",
      "bert.encoder.layer.0.attention.self.value.weight          (768, 768)\n",
      "bert.encoder.layer.0.attention.self.value.bias                (768,)\n",
      "bert.encoder.layer.0.attention.output.dense.weight        (768, 768)\n",
      "bert.encoder.layer.0.attention.output.dense.bias              (768,)\n",
      "bert.encoder.layer.0.attention.output.LayerNorm.weight        (768,)\n",
      "bert.encoder.layer.0.attention.output.LayerNorm.bias          (768,)\n",
      "bert.encoder.layer.0.intermediate.dense.weight           (3072, 768)\n",
      "bert.encoder.layer.0.intermediate.dense.bias                 (3072,)\n",
      "bert.encoder.layer.0.output.dense.weight                 (768, 3072)\n",
      "bert.encoder.layer.0.output.dense.bias                        (768,)\n",
      "bert.encoder.layer.0.output.LayerNorm.weight                  (768,)\n",
      "bert.encoder.layer.0.output.LayerNorm.bias                    (768,)\n",
      "\n",
      "==== Output Layer ====\n",
      "\n",
      "bert.pooler.dense.weight                                  (768, 768)\n",
      "bert.pooler.dense.bias                                        (768,)\n",
      "classifier.weight                                           (4, 768)\n",
      "classifier.bias                                                 (4,)\n"
     ]
    }
   ],
   "source": [
    "#initialization of the model\n",
    "model=BertClassificationModel(key_for_vocab=pretrained_weigths,model_path=model_path,num_labels=len(labelled_data.label.unique()),show_parameter=True)"
   ]
  },
  {
   "cell_type": "code",
   "execution_count": 22,
   "metadata": {},
   "outputs": [
    {
     "name": "stdout",
     "output_type": "stream",
     "text": [
      "\n",
      "======== Epoch 1 / 4 ========\n",
      "Training...\n",
      "\n",
      "  Average training loss: 0.76\n",
      "  Training epoch took: 0:00:05\n",
      "\n",
      "Running Validation...\n",
      "  Accuracy: 0.90\n",
      "  Validation Loss: 0.49\n",
      "  Validation took: 0:00:01\n",
      "\n",
      "======== Epoch 2 / 4 ========\n",
      "Training...\n",
      "\n",
      "  Average training loss: 0.36\n",
      "  Training epoch took: 0:00:06\n",
      "\n",
      "Running Validation...\n",
      "  Accuracy: 0.90\n",
      "  Validation Loss: 0.57\n",
      "  Validation took: 0:00:01\n",
      "\n",
      "======== Epoch 3 / 4 ========\n",
      "Training...\n",
      "\n",
      "  Average training loss: 0.76\n",
      "  Training epoch took: 0:00:06\n",
      "\n",
      "Running Validation...\n",
      "  Accuracy: 0.90\n",
      "  Validation Loss: 0.45\n",
      "  Validation took: 0:00:01\n",
      "\n",
      "======== Epoch 4 / 4 ========\n",
      "Training...\n",
      "\n",
      "  Average training loss: 0.07\n",
      "  Training epoch took: 0:00:06\n",
      "\n",
      "Running Validation...\n",
      "  Accuracy: 0.90\n",
      "  Validation Loss: 0.39\n",
      "  Validation took: 0:00:01\n",
      "\n",
      "Training complete!\n",
      "Total training took 0:00:28 (h:mm:ss)\n"
     ]
    }
   ],
   "source": [
    "#model training and evaluation based on sample chunks\n",
    "model.fit(data_train=data_train_small,data_test=data_test_small, save_path=\"./saved_states/\")"
   ]
  },
  {
   "cell_type": "code",
   "execution_count": 42,
   "metadata": {},
   "outputs": [
    {
     "name": "stdout",
     "output_type": "stream",
     "text": [
      "Liebe Mitbürgerinnen und Mitbürger, Teile dieser Antwort könnten Sie verunsichern.\n",
      "\n",
      "Dieser Tweet kann politician zugeordnet werden\n"
     ]
    },
    {
     "data": {
      "text/plain": [
       "'politician'"
      ]
     },
     "execution_count": 42,
     "metadata": {},
     "output_type": "execute_result"
    }
   ],
   "source": [
    "#let the model predict the label of a tweet\n",
    "model.predict(\"Liebe Mitbürgerinnen und Mitbürger, Teile dieser Antwort könnten Sie verunsichern.\")"
   ]
  },
  {
   "cell_type": "code",
   "execution_count": 24,
   "metadata": {},
   "outputs": [
    {
     "data": {
      "image/png": "[encoded data removed]",
      "text/plain": [
       "<Figure size 1296x864 with 2 Axes>"
      ]
     },
     "metadata": {},
     "output_type": "display_data"
    }
   ],
   "source": [
    "#visualization of the model performance on test data\n",
    "model.confusion_matrix(data_test) "
   ]
  },
  {
   "cell_type": "markdown",
   "metadata": {},
   "source": [
    "### Bert Embeddings"
   ]
  },
  {
   "cell_type": "code",
   "execution_count": 25,
   "metadata": {},
   "outputs": [],
   "source": [
    "#configurations\n",
    "pretrained_weigths='bert-base-german-cased'\n",
    "model_path=\"./saved_states/MCC_Bert_ClassificationModel/\"  #model will be sent on request"
   ]
  },
  {
   "cell_type": "code",
   "execution_count": 26,
   "metadata": {},
   "outputs": [],
   "source": [
    "#two samples of tweets to illustrate that our embedding approach works\n",
    "tweets_preprocessed_train=data_train_under\n",
    "tweets_preprocessed_test=data_test_under \n",
    "\n",
    "#small sample of tweets to illustrate that our embedding approach works\n",
    "tweets_preprocessed_test_small=tweets_preprocessed_test[:20]"
   ]
  },
  {
   "cell_type": "code",
   "execution_count": 27,
   "metadata": {},
   "outputs": [],
   "source": [
    "#initialization of the model\n",
    "model = BertEmbeddings(key_for_vocab=pretrained_weigths,model_path=model_path)"
   ]
  },
  {
   "cell_type": "code",
   "execution_count": 28,
   "metadata": {},
   "outputs": [
    {
     "name": "stdout",
     "output_type": "stream",
     "text": [
      "\n",
      "Creating Embeddings...\n",
      "  Batch    40  of  1,470.    Elapsed: 0:00:03.\n",
      "  Batch    80  of  1,470.    Elapsed: 0:00:07.\n",
      "  Batch   120  of  1,470.    Elapsed: 0:00:10.\n",
      "  Batch   160  of  1,470.    Elapsed: 0:00:13.\n",
      "  Batch   200  of  1,470.    Elapsed: 0:00:16.\n",
      "  Batch   240  of  1,470.    Elapsed: 0:00:20.\n",
      "  Batch   280  of  1,470.    Elapsed: 0:00:23.\n",
      "  Batch   320  of  1,470.    Elapsed: 0:00:26.\n",
      "  Batch   360  of  1,470.    Elapsed: 0:00:30.\n",
      "  Batch   400  of  1,470.    Elapsed: 0:00:33.\n",
      "  Batch   440  of  1,470.    Elapsed: 0:00:36.\n",
      "  Batch   480  of  1,470.    Elapsed: 0:00:40.\n",
      "  Batch   520  of  1,470.    Elapsed: 0:00:43.\n",
      "  Batch   560  of  1,470.    Elapsed: 0:00:46.\n",
      "  Batch   600  of  1,470.    Elapsed: 0:00:50.\n",
      "  Batch   640  of  1,470.    Elapsed: 0:00:53.\n",
      "  Batch   680  of  1,470.    Elapsed: 0:00:56.\n",
      "  Batch   720  of  1,470.    Elapsed: 0:01:00.\n",
      "  Batch   760  of  1,470.    Elapsed: 0:01:03.\n",
      "  Batch   800  of  1,470.    Elapsed: 0:01:07.\n",
      "  Batch   840  of  1,470.    Elapsed: 0:01:10.\n",
      "  Batch   880  of  1,470.    Elapsed: 0:01:13.\n",
      "  Batch   920  of  1,470.    Elapsed: 0:01:16.\n",
      "  Batch   960  of  1,470.    Elapsed: 0:01:20.\n",
      "  Batch 1,000  of  1,470.    Elapsed: 0:01:23.\n",
      "  Batch 1,040  of  1,470.    Elapsed: 0:01:27.\n",
      "  Batch 1,080  of  1,470.    Elapsed: 0:01:31.\n",
      "  Batch 1,120  of  1,470.    Elapsed: 0:01:34.\n",
      "  Batch 1,160  of  1,470.    Elapsed: 0:01:38.\n",
      "  Batch 1,200  of  1,470.    Elapsed: 0:01:41.\n",
      "  Batch 1,240  of  1,470.    Elapsed: 0:01:45.\n",
      "  Batch 1,280  of  1,470.    Elapsed: 0:01:48.\n",
      "  Batch 1,320  of  1,470.    Elapsed: 0:01:51.\n",
      "  Batch 1,360  of  1,470.    Elapsed: 0:01:54.\n",
      "  Batch 1,400  of  1,470.    Elapsed: 0:01:58.\n",
      "  Batch 1,440  of  1,470.    Elapsed: 0:02:01.\n",
      "\n",
      "  Embedding took: 0:02:04\n"
     ]
    },
    {
     "data": {
      "text/html": [
       "<div>\n",
       "<style scoped>\n",
       "    .dataframe tbody tr th:only-of-type {\n",
       "        vertical-align: middle;\n",
       "    }\n",
       "\n",
       "    .dataframe tbody tr th {\n",
       "        vertical-align: top;\n",
       "    }\n",
       "\n",
       "    .dataframe thead th {\n",
       "        text-align: right;\n",
       "    }\n",
       "</style>\n",
       "<table border=\"1\" class=\"dataframe\">\n",
       "  <thead>\n",
       "    <tr style=\"text-align: right;\">\n",
       "      <th></th>\n",
       "      <th>0</th>\n",
       "      <th>1</th>\n",
       "      <th>2</th>\n",
       "      <th>3</th>\n",
       "      <th>4</th>\n",
       "      <th>5</th>\n",
       "      <th>6</th>\n",
       "      <th>7</th>\n",
       "      <th>8</th>\n",
       "      <th>9</th>\n",
       "      <th>...</th>\n",
       "      <th>758</th>\n",
       "      <th>759</th>\n",
       "      <th>760</th>\n",
       "      <th>761</th>\n",
       "      <th>762</th>\n",
       "      <th>763</th>\n",
       "      <th>764</th>\n",
       "      <th>765</th>\n",
       "      <th>766</th>\n",
       "      <th>767</th>\n",
       "    </tr>\n",
       "  </thead>\n",
       "  <tbody>\n",
       "    <tr>\n",
       "      <th>0</th>\n",
       "      <td>-0.155501</td>\n",
       "      <td>0.618788</td>\n",
       "      <td>-0.400000</td>\n",
       "      <td>-0.168723</td>\n",
       "      <td>0.099905</td>\n",
       "      <td>-0.115501</td>\n",
       "      <td>-0.065136</td>\n",
       "      <td>-0.380747</td>\n",
       "      <td>-0.082125</td>\n",
       "      <td>0.337148</td>\n",
       "      <td>...</td>\n",
       "      <td>0.303687</td>\n",
       "      <td>-0.384173</td>\n",
       "      <td>-0.500934</td>\n",
       "      <td>-0.123788</td>\n",
       "      <td>0.121741</td>\n",
       "      <td>-0.414208</td>\n",
       "      <td>-0.782178</td>\n",
       "      <td>-0.024209</td>\n",
       "      <td>0.094186</td>\n",
       "      <td>0.265898</td>\n",
       "    </tr>\n",
       "    <tr>\n",
       "      <th>1</th>\n",
       "      <td>-0.266550</td>\n",
       "      <td>0.433313</td>\n",
       "      <td>0.099104</td>\n",
       "      <td>-1.647289</td>\n",
       "      <td>-0.373546</td>\n",
       "      <td>1.046514</td>\n",
       "      <td>0.044095</td>\n",
       "      <td>-0.113599</td>\n",
       "      <td>-0.778936</td>\n",
       "      <td>0.667118</td>\n",
       "      <td>...</td>\n",
       "      <td>0.433179</td>\n",
       "      <td>-0.630157</td>\n",
       "      <td>-0.815644</td>\n",
       "      <td>0.206477</td>\n",
       "      <td>-1.348451</td>\n",
       "      <td>0.192473</td>\n",
       "      <td>-0.635558</td>\n",
       "      <td>1.342581</td>\n",
       "      <td>-1.088300</td>\n",
       "      <td>-0.113335</td>\n",
       "    </tr>\n",
       "    <tr>\n",
       "      <th>2</th>\n",
       "      <td>-0.348069</td>\n",
       "      <td>0.501527</td>\n",
       "      <td>-0.248647</td>\n",
       "      <td>0.060816</td>\n",
       "      <td>1.034725</td>\n",
       "      <td>-0.657848</td>\n",
       "      <td>-0.350031</td>\n",
       "      <td>0.143902</td>\n",
       "      <td>0.608053</td>\n",
       "      <td>-0.077793</td>\n",
       "      <td>...</td>\n",
       "      <td>0.829256</td>\n",
       "      <td>0.070150</td>\n",
       "      <td>-0.498442</td>\n",
       "      <td>0.094786</td>\n",
       "      <td>-0.312061</td>\n",
       "      <td>0.294482</td>\n",
       "      <td>-0.638179</td>\n",
       "      <td>0.169126</td>\n",
       "      <td>-0.722636</td>\n",
       "      <td>0.687678</td>\n",
       "    </tr>\n",
       "    <tr>\n",
       "      <th>3</th>\n",
       "      <td>0.186601</td>\n",
       "      <td>0.809216</td>\n",
       "      <td>-0.788655</td>\n",
       "      <td>0.169247</td>\n",
       "      <td>0.409595</td>\n",
       "      <td>-0.143602</td>\n",
       "      <td>-0.307500</td>\n",
       "      <td>-1.326206</td>\n",
       "      <td>0.044464</td>\n",
       "      <td>0.468244</td>\n",
       "      <td>...</td>\n",
       "      <td>0.683296</td>\n",
       "      <td>-0.148403</td>\n",
       "      <td>-0.593282</td>\n",
       "      <td>-0.850846</td>\n",
       "      <td>0.420189</td>\n",
       "      <td>-0.234947</td>\n",
       "      <td>-0.938067</td>\n",
       "      <td>0.564284</td>\n",
       "      <td>0.848563</td>\n",
       "      <td>-0.112115</td>\n",
       "    </tr>\n",
       "    <tr>\n",
       "      <th>4</th>\n",
       "      <td>-0.269941</td>\n",
       "      <td>0.078372</td>\n",
       "      <td>-0.210038</td>\n",
       "      <td>-0.320400</td>\n",
       "      <td>1.306775</td>\n",
       "      <td>-0.417874</td>\n",
       "      <td>-0.168585</td>\n",
       "      <td>0.313407</td>\n",
       "      <td>0.467916</td>\n",
       "      <td>-0.227055</td>\n",
       "      <td>...</td>\n",
       "      <td>0.525564</td>\n",
       "      <td>0.271849</td>\n",
       "      <td>-0.474960</td>\n",
       "      <td>-0.399733</td>\n",
       "      <td>-0.091125</td>\n",
       "      <td>0.316234</td>\n",
       "      <td>-0.244165</td>\n",
       "      <td>-0.191409</td>\n",
       "      <td>-0.364475</td>\n",
       "      <td>0.681087</td>\n",
       "    </tr>\n",
       "  </tbody>\n",
       "</table>\n",
       "<p>5 rows × 768 columns</p>\n",
       "</div>"
      ],
      "text/plain": [
       "        0         1         2         3         4         5         6    \\\n",
       "0 -0.155501  0.618788 -0.400000 -0.168723  0.099905 -0.115501 -0.065136   \n",
       "1 -0.266550  0.433313  0.099104 -1.647289 -0.373546  1.046514  0.044095   \n",
       "2 -0.348069  0.501527 -0.248647  0.060816  1.034725 -0.657848 -0.350031   \n",
       "3  0.186601  0.809216 -0.788655  0.169247  0.409595 -0.143602 -0.307500   \n",
       "4 -0.269941  0.078372 -0.210038 -0.320400  1.306775 -0.417874 -0.168585   \n",
       "\n",
       "        7         8         9    ...       758       759       760       761  \\\n",
       "0 -0.380747 -0.082125  0.337148  ...  0.303687 -0.384173 -0.500934 -0.123788   \n",
       "1 -0.113599 -0.778936  0.667118  ...  0.433179 -0.630157 -0.815644  0.206477   \n",
       "2  0.143902  0.608053 -0.077793  ...  0.829256  0.070150 -0.498442  0.094786   \n",
       "3 -1.326206  0.044464  0.468244  ...  0.683296 -0.148403 -0.593282 -0.850846   \n",
       "4  0.313407  0.467916 -0.227055  ...  0.525564  0.271849 -0.474960 -0.399733   \n",
       "\n",
       "        762       763       764       765       766       767  \n",
       "0  0.121741 -0.414208 -0.782178 -0.024209  0.094186  0.265898  \n",
       "1 -1.348451  0.192473 -0.635558  1.342581 -1.088300 -0.113335  \n",
       "2 -0.312061  0.294482 -0.638179  0.169126 -0.722636  0.687678  \n",
       "3  0.420189 -0.234947 -0.938067  0.564284  0.848563 -0.112115  \n",
       "4 -0.091125  0.316234 -0.244165 -0.191409 -0.364475  0.681087  \n",
       "\n",
       "[5 rows x 768 columns]"
      ]
     },
     "execution_count": 28,
     "metadata": {},
     "output_type": "execute_result"
    }
   ],
   "source": [
    "#model embedds the sample chunk\n",
    "embeddings=model.embedd(tweets=tweets_preprocessed_test.text,save_path=\"./saved_states/saved_embeddings\")\n",
    "embeddings.head()"
   ]
  },
  {
   "cell_type": "markdown",
   "metadata": {},
   "source": [
    "#### Visualize"
   ]
  },
  {
   "cell_type": "code",
   "execution_count": 29,
   "metadata": {},
   "outputs": [
    {
     "data": {
      "image/png": "[encoded data removed]",
      "text/plain": [
       "<Figure size 864x864 with 1 Axes>"
      ]
     },
     "metadata": {},
     "output_type": "display_data"
    }
   ],
   "source": [
    "#visualize the embeddings using umap\n",
    "reducer=visualize_embeddings()\n",
    "reducer.fit(embeddings)\n",
    "reducer.show(embeddings,tweets_preprocessed_test.label)"
   ]
  },
  {
   "cell_type": "code",
   "execution_count": 30,
   "metadata": {},
   "outputs": [
    {
     "data": {
      "text/plain": [
       "array([138, 132,  -1, ..., 161, 175,   0])"
      ]
     },
     "execution_count": 30,
     "metadata": {},
     "output_type": "execute_result"
    }
   ],
   "source": [
    "#using the HDBScan algorithm in combination with a PCA and umap to find clusters in the embeddings\n",
    "find_clusters(embeddings,min_cluster_size=2)"
   ]
  },
  {
   "cell_type": "markdown",
   "metadata": {},
   "source": [
    "### Addition"
   ]
  },
  {
   "cell_type": "markdown",
   "metadata": {},
   "source": [
    "#### Create your custom tokenizer"
   ]
  },
  {
   "cell_type": "code",
   "execution_count": 31,
   "metadata": {},
   "outputs": [],
   "source": [
    "#create a sample word corpus\n",
    "create_txt_file(tweets=data_train.text,save_path=\"./saved_states/dummy_file.txt\")"
   ]
  },
  {
   "cell_type": "code",
   "execution_count": 32,
   "metadata": {},
   "outputs": [],
   "source": [
    "#build the tokenizer\n",
    "build_tokenizer(data_path=\"./saved_states/dummy_file.txt\",save_path=\"./saved_states/\")"
   ]
  },
  {
   "cell_type": "code",
   "execution_count": 33,
   "metadata": {},
   "outputs": [
    {
     "name": "stdout",
     "output_type": "stream",
     "text": [
      "Original sentence Hi MCC, we hope you like our work\n",
      "Encoded string: ['<s>', 'Hi', 'ĠMCC', ',', 'Ġwe', 'Ġhope', 'Ġyou', 'Ġlike', 'Ġour', 'Ġwork', '</s>']\n",
      "Decoded string: <s>Hi MCC, we hope you like our work</s>\n"
     ]
    }
   ],
   "source": [
    "#test the tokenizer\n",
    "test_tokenizer(test_sentence=\"Hi MCC, we hope you like our work\",vocab_path=\"./saved_states/vocab.json\",merge_path=\"./saved_states/merges.txt\")"
   ]
  }
 ],
 "metadata": {
  "kernelspec": {
   "display_name": "Python 3",
   "language": "python",
   "name": "python3"
  },
  "language_info": {
   "codemirror_mode": {
    "name": "ipython",
    "version": 3
   },
   "file_extension": ".py",
   "mimetype": "text/x-python",
   "name": "python",
   "nbconvert_exporter": "python",
   "pygments_lexer": "ipython3",
   "version": "3.7.6"
  }
 },
 "nbformat": 4,
 "nbformat_minor": 4
}
